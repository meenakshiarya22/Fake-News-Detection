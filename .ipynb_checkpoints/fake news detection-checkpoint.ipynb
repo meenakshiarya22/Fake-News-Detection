{
 "cells": [
  {
   "cell_type": "code",
   "execution_count": 1,
   "metadata": {},
   "outputs": [
    {
     "name": "stderr",
     "output_type": "stream",
     "text": [
      "Using TensorFlow backend.\n"
     ]
    }
   ],
   "source": [
    "import re\n",
    "from tqdm import tqdm_notebook\n",
    "from nltk.corpus import stopwords\n",
    "from tensorflow.keras import regularizers, initializers, optimizers, callbacks\n",
    "from tensorflow.keras.preprocessing.sequence import pad_sequences\n",
    "from tensorflow.keras.preprocessing.text import Tokenizer\n",
    "from keras.utils.np_utils import to_categorical\n",
    "from tensorflow.keras.layers import *\n",
    "from tensorflow.keras.models import Sequential\n",
    "import pandas as pd\n",
    "import numpy as np"
   ]
  },
  {
   "cell_type": "code",
   "execution_count": 2,
   "metadata": {},
   "outputs": [
    {
     "name": "stderr",
     "output_type": "stream",
     "text": [
      "C:\\Users\\Meenakshi\\Anaconda3\\envs\\tensorenviron\\lib\\site-packages\\IPython\\core\\interactiveshell.py:3063: DtypeWarning: Columns (24,25,26,27,28,29,30,31,32,33,34,35,36,37,38,39,40,41,42,43,44,45,46,47,48,49,50,51,52,53,54,55,56,57,58,59,60,61,62,63,64,65,66,67,68,69,70,71,72,73,74,75,76,77,78,79,80,81,82,83,84,85,86,87,88,89,90,91,92,93,94,95,96,97,98,99,100,101,102,103,104,105,106,107,108,109,110,111,112,113,114,115,116,117,118,119,120,121,122,123,124,125,126,127,128,129,130,131,132,133,134,135,136,137,138,139,140) have mixed types.Specify dtype option on import or set low_memory=False.\n",
      "  interactivity=interactivity, compiler=compiler, result=result)\n"
     ]
    },
    {
     "data": {
      "text/html": [
       "<div>\n",
       "<style scoped>\n",
       "    .dataframe tbody tr th:only-of-type {\n",
       "        vertical-align: middle;\n",
       "    }\n",
       "\n",
       "    .dataframe tbody tr th {\n",
       "        vertical-align: top;\n",
       "    }\n",
       "\n",
       "    .dataframe thead th {\n",
       "        text-align: right;\n",
       "    }\n",
       "</style>\n",
       "<table border=\"1\" class=\"dataframe\">\n",
       "  <thead>\n",
       "    <tr style=\"text-align: right;\">\n",
       "      <th></th>\n",
       "      <th>Unnamed: 0</th>\n",
       "      <th>title</th>\n",
       "      <th>text</th>\n",
       "      <th>label</th>\n",
       "      <th>Unnamed: 4</th>\n",
       "      <th>Unnamed: 5</th>\n",
       "      <th>Unnamed: 6</th>\n",
       "      <th>Unnamed: 7</th>\n",
       "      <th>Unnamed: 8</th>\n",
       "      <th>Unnamed: 9</th>\n",
       "      <th>...</th>\n",
       "      <th>Unnamed: 131</th>\n",
       "      <th>Unnamed: 132</th>\n",
       "      <th>Unnamed: 133</th>\n",
       "      <th>Unnamed: 134</th>\n",
       "      <th>Unnamed: 135</th>\n",
       "      <th>Unnamed: 136</th>\n",
       "      <th>Unnamed: 137</th>\n",
       "      <th>Unnamed: 138</th>\n",
       "      <th>Unnamed: 139</th>\n",
       "      <th>Unnamed: 140</th>\n",
       "    </tr>\n",
       "  </thead>\n",
       "  <tbody>\n",
       "    <tr>\n",
       "      <th>0</th>\n",
       "      <td>8476</td>\n",
       "      <td>You Can Smell Hillary’s Fear</td>\n",
       "      <td>Daniel Greenfield, a Shillman Journalism Fello...</td>\n",
       "      <td>FAKE</td>\n",
       "      <td>NaN</td>\n",
       "      <td>NaN</td>\n",
       "      <td>NaN</td>\n",
       "      <td>NaN</td>\n",
       "      <td>NaN</td>\n",
       "      <td>NaN</td>\n",
       "      <td>...</td>\n",
       "      <td>NaN</td>\n",
       "      <td>NaN</td>\n",
       "      <td>NaN</td>\n",
       "      <td>NaN</td>\n",
       "      <td>NaN</td>\n",
       "      <td>NaN</td>\n",
       "      <td>NaN</td>\n",
       "      <td>NaN</td>\n",
       "      <td>NaN</td>\n",
       "      <td>NaN</td>\n",
       "    </tr>\n",
       "    <tr>\n",
       "      <th>1</th>\n",
       "      <td>10294</td>\n",
       "      <td>Watch The Exact Moment Paul Ryan Committed Pol...</td>\n",
       "      <td>Google Pinterest Digg Linkedin Reddit Stumbleu...</td>\n",
       "      <td>FAKE</td>\n",
       "      <td>NaN</td>\n",
       "      <td>NaN</td>\n",
       "      <td>NaN</td>\n",
       "      <td>NaN</td>\n",
       "      <td>NaN</td>\n",
       "      <td>NaN</td>\n",
       "      <td>...</td>\n",
       "      <td>NaN</td>\n",
       "      <td>NaN</td>\n",
       "      <td>NaN</td>\n",
       "      <td>NaN</td>\n",
       "      <td>NaN</td>\n",
       "      <td>NaN</td>\n",
       "      <td>NaN</td>\n",
       "      <td>NaN</td>\n",
       "      <td>NaN</td>\n",
       "      <td>NaN</td>\n",
       "    </tr>\n",
       "    <tr>\n",
       "      <th>2</th>\n",
       "      <td>3608</td>\n",
       "      <td>Kerry to go to Paris in gesture of sympathy</td>\n",
       "      <td>U.S. Secretary of State John F. Kerry said Mon...</td>\n",
       "      <td>REAL</td>\n",
       "      <td>NaN</td>\n",
       "      <td>NaN</td>\n",
       "      <td>NaN</td>\n",
       "      <td>NaN</td>\n",
       "      <td>NaN</td>\n",
       "      <td>NaN</td>\n",
       "      <td>...</td>\n",
       "      <td>NaN</td>\n",
       "      <td>NaN</td>\n",
       "      <td>NaN</td>\n",
       "      <td>NaN</td>\n",
       "      <td>NaN</td>\n",
       "      <td>NaN</td>\n",
       "      <td>NaN</td>\n",
       "      <td>NaN</td>\n",
       "      <td>NaN</td>\n",
       "      <td>NaN</td>\n",
       "    </tr>\n",
       "    <tr>\n",
       "      <th>3</th>\n",
       "      <td>10142</td>\n",
       "      <td>Bernie supporters on Twitter erupt in anger ag...</td>\n",
       "      <td>— Kaydee King (@KaydeeKing) November 9, 2016 T...</td>\n",
       "      <td>FAKE</td>\n",
       "      <td>NaN</td>\n",
       "      <td>NaN</td>\n",
       "      <td>NaN</td>\n",
       "      <td>NaN</td>\n",
       "      <td>NaN</td>\n",
       "      <td>NaN</td>\n",
       "      <td>...</td>\n",
       "      <td>NaN</td>\n",
       "      <td>NaN</td>\n",
       "      <td>NaN</td>\n",
       "      <td>NaN</td>\n",
       "      <td>NaN</td>\n",
       "      <td>NaN</td>\n",
       "      <td>NaN</td>\n",
       "      <td>NaN</td>\n",
       "      <td>NaN</td>\n",
       "      <td>NaN</td>\n",
       "    </tr>\n",
       "    <tr>\n",
       "      <th>4</th>\n",
       "      <td>875</td>\n",
       "      <td>The Battle of New York: Why This Primary Matters</td>\n",
       "      <td>It's primary day in New York and front-runners...</td>\n",
       "      <td>REAL</td>\n",
       "      <td>NaN</td>\n",
       "      <td>NaN</td>\n",
       "      <td>NaN</td>\n",
       "      <td>NaN</td>\n",
       "      <td>NaN</td>\n",
       "      <td>NaN</td>\n",
       "      <td>...</td>\n",
       "      <td>NaN</td>\n",
       "      <td>NaN</td>\n",
       "      <td>NaN</td>\n",
       "      <td>NaN</td>\n",
       "      <td>NaN</td>\n",
       "      <td>NaN</td>\n",
       "      <td>NaN</td>\n",
       "      <td>NaN</td>\n",
       "      <td>NaN</td>\n",
       "      <td>NaN</td>\n",
       "    </tr>\n",
       "  </tbody>\n",
       "</table>\n",
       "<p>5 rows × 141 columns</p>\n",
       "</div>"
      ],
      "text/plain": [
       "  Unnamed: 0                                              title  \\\n",
       "0       8476                       You Can Smell Hillary’s Fear   \n",
       "1      10294  Watch The Exact Moment Paul Ryan Committed Pol...   \n",
       "2       3608        Kerry to go to Paris in gesture of sympathy   \n",
       "3      10142  Bernie supporters on Twitter erupt in anger ag...   \n",
       "4        875   The Battle of New York: Why This Primary Matters   \n",
       "\n",
       "                                                text label Unnamed: 4  \\\n",
       "0  Daniel Greenfield, a Shillman Journalism Fello...  FAKE        NaN   \n",
       "1  Google Pinterest Digg Linkedin Reddit Stumbleu...  FAKE        NaN   \n",
       "2  U.S. Secretary of State John F. Kerry said Mon...  REAL        NaN   \n",
       "3  — Kaydee King (@KaydeeKing) November 9, 2016 T...  FAKE        NaN   \n",
       "4  It's primary day in New York and front-runners...  REAL        NaN   \n",
       "\n",
       "  Unnamed: 5 Unnamed: 6 Unnamed: 7 Unnamed: 8 Unnamed: 9  ... Unnamed: 131  \\\n",
       "0        NaN        NaN        NaN        NaN        NaN  ...          NaN   \n",
       "1        NaN        NaN        NaN        NaN        NaN  ...          NaN   \n",
       "2        NaN        NaN        NaN        NaN        NaN  ...          NaN   \n",
       "3        NaN        NaN        NaN        NaN        NaN  ...          NaN   \n",
       "4        NaN        NaN        NaN        NaN        NaN  ...          NaN   \n",
       "\n",
       "  Unnamed: 132 Unnamed: 133 Unnamed: 134 Unnamed: 135 Unnamed: 136  \\\n",
       "0          NaN          NaN          NaN          NaN          NaN   \n",
       "1          NaN          NaN          NaN          NaN          NaN   \n",
       "2          NaN          NaN          NaN          NaN          NaN   \n",
       "3          NaN          NaN          NaN          NaN          NaN   \n",
       "4          NaN          NaN          NaN          NaN          NaN   \n",
       "\n",
       "  Unnamed: 137 Unnamed: 138 Unnamed: 139 Unnamed: 140  \n",
       "0          NaN          NaN          NaN          NaN  \n",
       "1          NaN          NaN          NaN          NaN  \n",
       "2          NaN          NaN          NaN          NaN  \n",
       "3          NaN          NaN          NaN          NaN  \n",
       "4          NaN          NaN          NaN          NaN  \n",
       "\n",
       "[5 rows x 141 columns]"
      ]
     },
     "execution_count": 2,
     "metadata": {},
     "output_type": "execute_result"
    }
   ],
   "source": [
    "df = pd.read_csv('news.csv')\n",
    "df.head()"
   ]
  },
  {
   "cell_type": "code",
   "execution_count": 3,
   "metadata": {},
   "outputs": [
    {
     "name": "stdout",
     "output_type": "stream",
     "text": [
      "<class 'pandas.core.frame.DataFrame'>\n",
      "RangeIndex: 7795 entries, 0 to 7794\n",
      "Columns: 141 entries, Unnamed: 0 to Unnamed: 140\n",
      "dtypes: object(141)\n",
      "memory usage: 8.4+ MB\n"
     ]
    }
   ],
   "source": [
    "df.info()"
   ]
  },
  {
   "cell_type": "code",
   "execution_count": 4,
   "metadata": {},
   "outputs": [],
   "source": [
    "x = df['title'] + \" \" + df['text']\n",
    "y = pd.get_dummies(df['label'])\n",
    "y = np.array(y)"
   ]
  },
  {
   "cell_type": "code",
   "execution_count": 5,
   "metadata": {},
   "outputs": [
    {
     "data": {
      "text/plain": [
       "'You Can Smell Hillary’s Fear Daniel Greenfield, a Shillman Journalism Fellow at the Freedom Center, is a New York writer focusing on radical Islam. \\nIn the final stretch of the election, Hillary Rodham Clinton has gone to war with the FBI. \\nThe word “unprecedented” has been thrown around so often this election that it ought to be retired. But it’s still unprecedented for the nominee of a major political party to go war with the FBI. \\nBut that’s exactly what Hillary and her people have done. Coma patients just waking up now and watching an hour of CNN from their hospital beds would assume that FBI Director James Comey is Hillary’s opponent in this election. \\nThe FBI is under attack by everyone from Obama to CNN. Hillary’s people have circulated a letter attacking Comey. There are currently more media hit pieces lambasting him than targeting Trump. It wouldn’t be too surprising if the Clintons or their allies were to start running attack ads against the FBI. \\nThe FBI’s leadership is being warned that the entire left-wing establishment will form a lynch mob if they continue going after Hillary. And the FBI’s credibility is being attacked by the media and the Democrats to preemptively head off the results of the investigation of the Clinton Foundation and Hillary Clinton. \\nThe covert struggle between FBI agents and Obama’s DOJ people has gone explosively public. \\nThe New York Times has compared Comey to J. Edgar Hoover. Its bizarre headline, “James Comey Role Recalls Hoover’s FBI, Fairly or Not” practically admits up front that it’s spouting nonsense. The Boston Globe has published a column calling for Comey’s resignation. Not to be outdone, Time has an editorial claiming that the scandal is really an attack on all women. \\nJames Carville appeared on MSNBC to remind everyone that he was still alive and insane. He accused Comey of coordinating with House Republicans and the KGB. And you thought the “vast right wing conspiracy” was a stretch. \\nCountless media stories charge Comey with violating procedure. Do you know what’s a procedural violation? Emailing classified information stored on your bathroom server. \\nSenator Harry Reid has sent Comey a letter accusing him of violating the Hatch Act. The Hatch Act is a nice idea that has as much relevance in the age of Obama as the Tenth Amendment. But the cable news spectrum quickly filled with media hacks glancing at the Wikipedia article on the Hatch Act under the table while accusing the FBI director of one of the most awkward conspiracies against Hillary ever. \\nIf James Comey is really out to hurt Hillary, he picked one hell of a strange way to do it. \\nNot too long ago Democrats were breathing a sigh of relief when he gave Hillary Clinton a pass in a prominent public statement. If he really were out to elect Trump by keeping the email scandal going, why did he trash the investigation? Was he on the payroll of House Republicans and the KGB back then and playing it coy or was it a sudden development where Vladimir Putin and Paul Ryan talked him into taking a look at Anthony Weiner’s computer? \\nEither Comey is the most cunning FBI director that ever lived or he’s just awkwardly trying to navigate a political mess that has trapped him between a DOJ leadership whose political futures are tied to Hillary’s victory and his own bureau whose apolitical agents just want to be allowed to do their jobs. \\nThe only truly mysterious thing is why Hillary and her associates decided to go to war with a respected Federal agency. Most Americans like the FBI while Hillary Clinton enjoys a 60% unfavorable rating. \\nAnd it’s an interesting question. \\nHillary’s old strategy was to lie and deny that the FBI even had a criminal investigation underway. Instead her associates insisted that it was a security review. The FBI corrected her and she shrugged it off. But the old breezy denial approach has given way to a savage assault on the FBI. \\nPretending that nothing was wrong was a bad strategy, but it was a better one that picking a fight with the FBI while lunatic Clinton associates try to claim that the FBI is really the KGB. \\nThere are two possible explanations. \\nHillary Clinton might be arrogant enough to lash out at the FBI now that she believes that victory is near. The same kind of hubris that led her to plan her victory fireworks display could lead her to declare a war on the FBI for irritating her during the final miles of her campaign. \\nBut the other explanation is that her people panicked. \\nGoing to war with the FBI is not the behavior of a smart and focused presidential campaign. It’s an act of desperation. When a presidential candidate decides that her only option is to try and destroy the credibility of the FBI, that’s not hubris, it’s fear of what the FBI might be about to reveal about her. \\nDuring the original FBI investigation, Hillary Clinton was confident that she could ride it out. And she had good reason for believing that. But that Hillary Clinton is gone. In her place is a paranoid wreck. Within a short space of time the “positive” Clinton campaign promising to unite the country has been replaced by a desperate and flailing operation that has focused all its energy on fighting the FBI. \\nThere’s only one reason for such bizarre behavior. \\nThe Clinton campaign has decided that an FBI investigation of the latest batch of emails poses a threat to its survival. And so it’s gone all in on fighting the FBI. It’s an unprecedented step born of fear. It’s hard to know whether that fear is justified. But the existence of that fear already tells us a whole lot. \\nClinton loyalists rigged the old investigation. They knew the outcome ahead of time as well as they knew the debate questions. Now suddenly they are no longer in control. And they are afraid. \\nYou can smell the fear. \\nThe FBI has wiretaps from the investigation of the Clinton Foundation. It’s finding new emails all the time. And Clintonworld panicked. The spinmeisters of Clintonworld have claimed that the email scandal is just so much smoke without fire. All that’s here is the appearance of impropriety without any of the substance. But this isn’t how you react to smoke. It’s how you respond to a fire. \\nThe misguided assault on the FBI tells us that Hillary Clinton and her allies are afraid of a revelation bigger than the fundamental illegality of her email setup. The email setup was a preemptive cover up. The Clinton campaign has panicked badly out of the belief, right or wrong, that whatever crime the illegal setup was meant to cover up is at risk of being exposed. \\nThe Clintons have weathered countless scandals over the years. Whatever they are protecting this time around is bigger than the usual corruption, bribery, sexual assaults and abuses of power that have followed them around throughout the years. This is bigger and more damaging than any of the allegations that have already come out. And they don’t want FBI investigators anywhere near it. \\nThe campaign against Comey is pure intimidation. It’s also a warning. Any senior FBI people who value their careers are being warned to stay away. The Democrats are closing ranks around their nominee against the FBI. It’s an ugly and unprecedented scene. It may also be their last stand. \\nHillary Clinton has awkwardly wound her way through numerous scandals in just this election cycle. But she’s never shown fear or desperation before. Now that has changed. Whatever she is afraid of, it lies buried in her emails with Huma Abedin. And it can bring her down like nothing else has.  '"
      ]
     },
     "execution_count": 5,
     "metadata": {},
     "output_type": "execute_result"
    }
   ],
   "source": [
    "x[0]"
   ]
  },
  {
   "cell_type": "code",
   "execution_count": 6,
   "metadata": {},
   "outputs": [
    {
     "data": {
      "text/plain": [
       "array([[1, 0],\n",
       "       [1, 0],\n",
       "       [0, 1],\n",
       "       ...,\n",
       "       [1, 0],\n",
       "       [0, 1],\n",
       "       [0, 1]], dtype=uint8)"
      ]
     },
     "execution_count": 6,
     "metadata": {},
     "output_type": "execute_result"
    }
   ],
   "source": [
    "y"
   ]
  },
  {
   "cell_type": "code",
   "execution_count": 7,
   "metadata": {},
   "outputs": [
    {
     "data": {
      "text/html": [
       "<div>\n",
       "<style scoped>\n",
       "    .dataframe tbody tr th:only-of-type {\n",
       "        vertical-align: middle;\n",
       "    }\n",
       "\n",
       "    .dataframe tbody tr th {\n",
       "        vertical-align: top;\n",
       "    }\n",
       "\n",
       "    .dataframe thead th {\n",
       "        text-align: right;\n",
       "    }\n",
       "</style>\n",
       "<table border=\"1\" class=\"dataframe\">\n",
       "  <thead>\n",
       "    <tr style=\"text-align: right;\">\n",
       "      <th></th>\n",
       "      <th>FAKE</th>\n",
       "      <th>REAL</th>\n",
       "    </tr>\n",
       "  </thead>\n",
       "  <tbody>\n",
       "    <tr>\n",
       "      <td>0</td>\n",
       "      <td>1</td>\n",
       "      <td>0</td>\n",
       "    </tr>\n",
       "    <tr>\n",
       "      <td>1</td>\n",
       "      <td>1</td>\n",
       "      <td>0</td>\n",
       "    </tr>\n",
       "    <tr>\n",
       "      <td>2</td>\n",
       "      <td>0</td>\n",
       "      <td>1</td>\n",
       "    </tr>\n",
       "    <tr>\n",
       "      <td>3</td>\n",
       "      <td>1</td>\n",
       "      <td>0</td>\n",
       "    </tr>\n",
       "    <tr>\n",
       "      <td>4</td>\n",
       "      <td>0</td>\n",
       "      <td>1</td>\n",
       "    </tr>\n",
       "  </tbody>\n",
       "</table>\n",
       "</div>"
      ],
      "text/plain": [
       "   FAKE  REAL\n",
       "0     1     0\n",
       "1     1     0\n",
       "2     0     1\n",
       "3     1     0\n",
       "4     0     1"
      ]
     },
     "execution_count": 7,
     "metadata": {},
     "output_type": "execute_result"
    }
   ],
   "source": [
    "y=pd.get_dummies(df['label'])\n",
    "y.head()"
   ]
  },
  {
   "cell_type": "code",
   "execution_count": 8,
   "metadata": {},
   "outputs": [],
   "source": [
    "MAX_NB_WORDS = 100000 # max number of words for tokenizer\n",
    "MAX_SEQUENCE_LENGTH = 1000 # max length of each sentences, including padding\n",
    "VALIDATION_SPLIT = 0.2 # 20% of data for validation (not used in training)\n",
    "EMBEDDING_DIM = 100 # embedding dimensions for word vectors\n",
    "GLOVE_DIR = \"glove.6B.\"+str(EMBEDDING_DIM)+\"d.txt\""
   ]
  },
  {
   "cell_type": "code",
   "execution_count": 9,
   "metadata": {},
   "outputs": [],
   "source": [
    "def clean_text(text, remove_stopwords = True):\n",
    " output = \"\"\n",
    " text = str(text).replace(r'http[\\w:/\\.]+','') # removing urls\n",
    " text = str(text).replace(r'[^\\.\\w\\s]','') #remove everything but characters and punctuation\n",
    " text = str(text).replace(r'\\.\\.+','.') #replace multiple periods with a single one\n",
    " text = str(text).replace(r'\\.',' . ') #replace periods with a single one\n",
    " text = str(text).replace(r'\\s\\s+',' ') #replace multiple white space with a single one\n",
    " text = str(text).replace(\"\\n\", \"\") #removing line breaks\n",
    " text = re.sub(r'[^\\w\\s]','',text).lower() #lower texts\n",
    " if remove_stopwords:\n",
    "  text = text.split(\" \")\n",
    "  for word in text:\n",
    "   if word not in stopwords.words(\"english\"):\n",
    "     #print(type(word),type(output))\n",
    "     output = str(output) + \" \" + word\n",
    "   else:\n",
    "     output = str(text)\n",
    " return str(output.strip())[1:-3].replace(\" \", \" \")"
   ]
  },
  {
   "cell_type": "code",
   "execution_count": 10,
   "metadata": {},
   "outputs": [
    {
     "name": "stderr",
     "output_type": "stream",
     "text": [
      "[nltk_data] Downloading package stopwords to\n",
      "[nltk_data]     C:\\Users\\aniru\\AppData\\Roaming\\nltk_data...\n",
      "[nltk_data]   Package stopwords is already up-to-date!\n"
     ]
    },
    {
     "data": {
      "text/plain": [
       "True"
      ]
     },
     "execution_count": 10,
     "metadata": {},
     "output_type": "execute_result"
    }
   ],
   "source": [
    "import nltk\n",
    "nltk.download('stopwords')"
   ]
  },
  {
   "cell_type": "code",
   "execution_count": 11,
   "metadata": {},
   "outputs": [
    {
     "data": {
      "application/vnd.jupyter.widget-view+json": {
       "model_id": "d3701a94c8944f1abf6ea1688f7b9174",
       "version_major": 2,
       "version_minor": 0
      },
      "text/plain": [
       "HBox(children=(IntProgress(value=0, max=6335), HTML(value='')))"
      ]
     },
     "metadata": {},
     "output_type": "display_data"
    },
    {
     "name": "stdout",
     "output_type": "stream",
     "text": [
      "\n"
     ]
    }
   ],
   "source": [
    "texts = [] \n",
    "for line in tqdm_notebook(x, total=df.shape[0]):\n",
    "    texts.append(clean_text(line))"
   ]
  },
  {
   "cell_type": "code",
   "execution_count": 12,
   "metadata": {},
   "outputs": [
    {
     "name": "stdout",
     "output_type": "stream",
     "text": [
      "Vocabulary size: 147321\n"
     ]
    }
   ],
   "source": [
    "tokenizer = Tokenizer(num_words=MAX_NB_WORDS)\n",
    "tokenizer.fit_on_texts(texts)\n",
    "sequences = tokenizer.texts_to_sequences(texts)\n",
    "word_index = tokenizer.word_index\n",
    "print('Vocabulary size:', len(word_index))"
   ]
  },
  {
   "cell_type": "code",
   "execution_count": 13,
   "metadata": {},
   "outputs": [
    {
     "name": "stdout",
     "output_type": "stream",
     "text": [
      "Shape of data tensor: (6335, 1000)\n",
      "Shape of label tensor: (6335, 2)\n"
     ]
    }
   ],
   "source": [
    "data = pad_sequences(sequences, padding = 'post', maxlen = MAX_SEQUENCE_LENGTH)\n",
    "print('Shape of data tensor:', data.shape)\n",
    "print('Shape of label tensor:', y.shape)"
   ]
  },
  {
   "cell_type": "code",
   "execution_count": 14,
   "metadata": {},
   "outputs": [],
   "source": [
    "indices = np.arange(data.shape[0])\n",
    "np.random.shuffle(indices)\n",
    "data = data[indices]\n",
    "labels = y.loc[indices]"
   ]
  },
  {
   "cell_type": "code",
   "execution_count": 15,
   "metadata": {},
   "outputs": [
    {
     "name": "stdout",
     "output_type": "stream",
     "text": [
      "Number of entries in each category:\n",
      "training:  FAKE    2530\n",
      "REAL    2538\n",
      "dtype: int64\n",
      "validation:  FAKE    634\n",
      "REAL    633\n",
      "dtype: int64\n"
     ]
    }
   ],
   "source": [
    "num_validation_samples = int(VALIDATION_SPLIT*data.shape[0])\n",
    "x_train = data[: -num_validation_samples]\n",
    "y_train = labels[: -num_validation_samples]\n",
    "x_val = data[-num_validation_samples: ]\n",
    "y_val = labels[-num_validation_samples: ]\n",
    "print('Number of entries in each category:')\n",
    "print('training: ', y_train.sum(axis=0))\n",
    "print('validation: ', y_val.sum(axis=0))"
   ]
  },
  {
   "cell_type": "code",
   "execution_count": 17,
   "metadata": {},
   "outputs": [],
   "source": [
    "#print('Tokenized sentences: \\n', data[10])\n",
    "#print('One hot label: \\n', labels[10])"
   ]
  },
  {
   "cell_type": "code",
   "execution_count": 18,
   "metadata": {},
   "outputs": [
    {
     "name": "stdout",
     "output_type": "stream",
     "text": [
      "Loading Glove from: glove.6B.100d.txt …Done.\n",
      " Proceeding with Embedding Matrix…Completed!\n"
     ]
    }
   ],
   "source": [
    "embeddings_index = {}\n",
    "f = open(GLOVE_DIR, encoding='utf8')\n",
    "print('Loading Glove from:', GLOVE_DIR,'…', end='')\n",
    "for line in f:\n",
    " values = line.split()\n",
    " word = values[0]\n",
    " embeddings_index[word] = np.asarray(values[1:], dtype='float32')\n",
    "f.close()\n",
    "print(\"Done.\\n Proceeding with Embedding Matrix…\", end=\"\")\n",
    "embedding_matrix = np.random.random((len(word_index) + 1, EMBEDDING_DIM))\n",
    "for word, i in word_index.items():\n",
    " embedding_vector = embeddings_index.get(word)\n",
    " if embedding_vector is not None:\n",
    "   embedding_matrix[i] = embedding_vector\n",
    "print(\"Completed!\")"
   ]
  },
  {
   "cell_type": "code",
   "execution_count": 19,
   "metadata": {},
   "outputs": [],
   "source": [
    "model = Sequential()\n",
    "model.add(Input(shape=(MAX_SEQUENCE_LENGTH,), dtype='int32'))\n",
    "model.add(Embedding(len(word_index) + 1,\n",
    " EMBEDDING_DIM,\n",
    " weights = [embedding_matrix],\n",
    " input_length = MAX_SEQUENCE_LENGTH,\n",
    " trainable=False,\n",
    " name = 'embeddings'))\n",
    "model.add(LSTM(60, return_sequences=True,name='lstm_layer'))\n",
    "model.add(GlobalMaxPool1D())\n",
    "model.add(Dropout(0.1))\n",
    "model.add(Dense(50, activation=\"relu\"))\n",
    "model.add(Dropout(0.1))\n",
    "model.add(Dense(2, activation=\"sigmoid\"))"
   ]
  },
  {
   "cell_type": "code",
   "execution_count": 20,
   "metadata": {},
   "outputs": [],
   "source": [
    "model.compile(optimizer='adam', loss='binary_crossentropy',\n",
    " metrics = ['accuracy'])"
   ]
  },
  {
   "cell_type": "code",
   "execution_count": 21,
   "metadata": {},
   "outputs": [
    {
     "name": "stdout",
     "output_type": "stream",
     "text": [
      "Train on 5068 samples, validate on 1267 samples\n",
      "Epoch 1/10\n",
      "5068/5068 [==============================] - ETA: 7:46 - loss: 0.6904 - accuracy: 0.54 - ETA: 4:27 - loss: 0.6890 - accuracy: 0.54 - ETA: 3:19 - loss: 0.6915 - accuracy: 0.53 - ETA: 2:44 - loss: 0.6893 - accuracy: 0.53 - ETA: 2:22 - loss: 0.6881 - accuracy: 0.54 - ETA: 2:06 - loss: 0.6885 - accuracy: 0.54 - ETA: 1:55 - loss: 0.6882 - accuracy: 0.53 - ETA: 1:45 - loss: 0.6903 - accuracy: 0.53 - ETA: 1:37 - loss: 0.6894 - accuracy: 0.53 - ETA: 1:31 - loss: 0.6899 - accuracy: 0.53 - ETA: 1:25 - loss: 0.6882 - accuracy: 0.54 - ETA: 1:21 - loss: 0.6877 - accuracy: 0.54 - ETA: 1:17 - loss: 0.6876 - accuracy: 0.54 - ETA: 1:13 - loss: 0.6867 - accuracy: 0.54 - ETA: 1:09 - loss: 0.6849 - accuracy: 0.55 - ETA: 1:05 - loss: 0.6844 - accuracy: 0.55 - ETA: 1:01 - loss: 0.6852 - accuracy: 0.55 - ETA: 58s - loss: 0.6846 - accuracy: 0.5540 - ETA: 55s - loss: 0.6831 - accuracy: 0.556 - ETA: 51s - loss: 0.6822 - accuracy: 0.560 - ETA: 48s - loss: 0.6819 - accuracy: 0.561 - ETA: 45s - loss: 0.6808 - accuracy: 0.565 - ETA: 42s - loss: 0.6805 - accuracy: 0.567 - ETA: 39s - loss: 0.6802 - accuracy: 0.568 - ETA: 37s - loss: 0.6792 - accuracy: 0.572 - ETA: 34s - loss: 0.6788 - accuracy: 0.573 - ETA: 31s - loss: 0.6783 - accuracy: 0.575 - ETA: 28s - loss: 0.6769 - accuracy: 0.579 - ETA: 26s - loss: 0.6768 - accuracy: 0.580 - ETA: 23s - loss: 0.6763 - accuracy: 0.582 - ETA: 21s - loss: 0.6755 - accuracy: 0.585 - ETA: 18s - loss: 0.6752 - accuracy: 0.584 - ETA: 16s - loss: 0.6739 - accuracy: 0.587 - ETA: 13s - loss: 0.6728 - accuracy: 0.591 - ETA: 11s - loss: 0.6713 - accuracy: 0.595 - ETA: 8s - loss: 0.6699 - accuracy: 0.598 - ETA: 6s - loss: 0.6697 - accuracy: 0.59 - ETA: 3s - loss: 0.6680 - accuracy: 0.60 - ETA: 1s - loss: 0.6673 - accuracy: 0.60 - 103s 20ms/sample - loss: 0.6660 - accuracy: 0.6061 - val_loss: 0.6102 - val_accuracy: 0.7017\n",
      "Epoch 2/10\n",
      "5068/5068 [==============================] - ETA: 1:27 - loss: 0.6135 - accuracy: 0.71 - ETA: 1:22 - loss: 0.6164 - accuracy: 0.70 - ETA: 1:19 - loss: 0.6111 - accuracy: 0.70 - ETA: 1:16 - loss: 0.6104 - accuracy: 0.70 - ETA: 1:13 - loss: 0.6121 - accuracy: 0.70 - ETA: 1:11 - loss: 0.6098 - accuracy: 0.70 - ETA: 1:09 - loss: 0.6130 - accuracy: 0.69 - ETA: 1:06 - loss: 0.6146 - accuracy: 0.69 - ETA: 1:04 - loss: 0.6111 - accuracy: 0.69 - ETA: 1:02 - loss: 0.6060 - accuracy: 0.69 - ETA: 1:00 - loss: 0.6091 - accuracy: 0.69 - ETA: 58s - loss: 0.6090 - accuracy: 0.6852 - ETA: 56s - loss: 0.6136 - accuracy: 0.673 - ETA: 54s - loss: 0.6147 - accuracy: 0.669 - ETA: 52s - loss: 0.6133 - accuracy: 0.670 - ETA: 49s - loss: 0.6121 - accuracy: 0.670 - ETA: 47s - loss: 0.6123 - accuracy: 0.671 - ETA: 45s - loss: 0.6129 - accuracy: 0.670 - ETA: 43s - loss: 0.6103 - accuracy: 0.673 - ETA: 41s - loss: 0.6090 - accuracy: 0.674 - ETA: 39s - loss: 0.6073 - accuracy: 0.676 - ETA: 37s - loss: 0.6079 - accuracy: 0.677 - ETA: 35s - loss: 0.6062 - accuracy: 0.680 - ETA: 33s - loss: 0.6064 - accuracy: 0.680 - ETA: 30s - loss: 0.6064 - accuracy: 0.681 - ETA: 28s - loss: 0.6039 - accuracy: 0.684 - ETA: 26s - loss: 0.6019 - accuracy: 0.686 - ETA: 24s - loss: 0.6002 - accuracy: 0.687 - ETA: 22s - loss: 0.6000 - accuracy: 0.688 - ETA: 20s - loss: 0.6014 - accuracy: 0.687 - ETA: 18s - loss: 0.6043 - accuracy: 0.685 - ETA: 16s - loss: 0.6012 - accuracy: 0.688 - ETA: 14s - loss: 0.6006 - accuracy: 0.688 - ETA: 11s - loss: 0.6002 - accuracy: 0.687 - ETA: 9s - loss: 0.6003 - accuracy: 0.687 - ETA: 7s - loss: 0.5997 - accuracy: 0.68 - ETA: 5s - loss: 0.5999 - accuracy: 0.68 - ETA: 3s - loss: 0.5993 - accuracy: 0.68 - ETA: 1s - loss: 0.5986 - accuracy: 0.68 - 91s 18ms/sample - loss: 0.5987 - accuracy: 0.6861 - val_loss: 0.5572 - val_accuracy: 0.7147\n",
      "Epoch 3/10\n",
      "5068/5068 [==============================] - ETA: 1:22 - loss: 0.5442 - accuracy: 0.73 - ETA: 1:19 - loss: 0.5501 - accuracy: 0.73 - ETA: 1:17 - loss: 0.5682 - accuracy: 0.72 - ETA: 1:15 - loss: 0.5878 - accuracy: 0.70 - ETA: 1:13 - loss: 0.5872 - accuracy: 0.69 - ETA: 1:11 - loss: 0.5879 - accuracy: 0.68 - ETA: 1:09 - loss: 0.5888 - accuracy: 0.68 - ETA: 1:06 - loss: 0.5859 - accuracy: 0.68 - ETA: 1:04 - loss: 0.5866 - accuracy: 0.68 - ETA: 1:02 - loss: 0.5853 - accuracy: 0.68 - ETA: 1:00 - loss: 0.5817 - accuracy: 0.68 - ETA: 58s - loss: 0.5822 - accuracy: 0.6868 - ETA: 56s - loss: 0.5808 - accuracy: 0.686 - ETA: 54s - loss: 0.5764 - accuracy: 0.689 - ETA: 52s - loss: 0.5717 - accuracy: 0.694 - ETA: 49s - loss: 0.5720 - accuracy: 0.694 - ETA: 47s - loss: 0.5713 - accuracy: 0.695 - ETA: 46s - loss: 0.5724 - accuracy: 0.692 - ETA: 44s - loss: 0.5698 - accuracy: 0.695 - ETA: 42s - loss: 0.5668 - accuracy: 0.699 - ETA: 40s - loss: 0.5634 - accuracy: 0.703 - ETA: 37s - loss: 0.5666 - accuracy: 0.699 - ETA: 35s - loss: 0.5659 - accuracy: 0.698 - ETA: 33s - loss: 0.5634 - accuracy: 0.700 - ETA: 31s - loss: 0.5625 - accuracy: 0.703 - ETA: 29s - loss: 0.5610 - accuracy: 0.704 - ETA: 27s - loss: 0.5613 - accuracy: 0.705 - ETA: 24s - loss: 0.5608 - accuracy: 0.706 - ETA: 22s - loss: 0.5596 - accuracy: 0.708 - ETA: 20s - loss: 0.5595 - accuracy: 0.708 - ETA: 18s - loss: 0.5603 - accuracy: 0.707 - ETA: 16s - loss: 0.5587 - accuracy: 0.708 - ETA: 14s - loss: 0.5593 - accuracy: 0.708 - ETA: 12s - loss: 0.5584 - accuracy: 0.709 - ETA: 9s - loss: 0.5578 - accuracy: 0.709 - ETA: 7s - loss: 0.5574 - accuracy: 0.70 - ETA: 5s - loss: 0.5577 - accuracy: 0.70 - ETA: 3s - loss: 0.5578 - accuracy: 0.70 - ETA: 1s - loss: 0.5577 - accuracy: 0.71 - 91s 18ms/sample - loss: 0.5568 - accuracy: 0.7114 - val_loss: 0.5183 - val_accuracy: 0.7324\n",
      "Epoch 4/10\n",
      "5068/5068 [==============================] - ETA: 1:23 - loss: 0.5659 - accuracy: 0.67 - ETA: 1:20 - loss: 0.5528 - accuracy: 0.67 - ETA: 1:17 - loss: 0.5530 - accuracy: 0.69 - ETA: 1:18 - loss: 0.5574 - accuracy: 0.69 - ETA: 1:17 - loss: 0.5488 - accuracy: 0.69 - ETA: 1:16 - loss: 0.5511 - accuracy: 0.70 - ETA: 1:14 - loss: 0.5395 - accuracy: 0.71 - ETA: 1:11 - loss: 0.5338 - accuracy: 0.71 - ETA: 1:09 - loss: 0.5308 - accuracy: 0.71 - ETA: 1:06 - loss: 0.5293 - accuracy: 0.72 - ETA: 1:03 - loss: 0.5353 - accuracy: 0.71 - ETA: 1:01 - loss: 0.5333 - accuracy: 0.72 - ETA: 58s - loss: 0.5308 - accuracy: 0.7245 - ETA: 56s - loss: 0.5236 - accuracy: 0.731 - ETA: 54s - loss: 0.5250 - accuracy: 0.731 - ETA: 51s - loss: 0.5287 - accuracy: 0.727 - ETA: 49s - loss: 0.5250 - accuracy: 0.731 - ETA: 47s - loss: 0.5231 - accuracy: 0.734 - ETA: 44s - loss: 0.5211 - accuracy: 0.735 - ETA: 42s - loss: 0.5201 - accuracy: 0.736 - ETA: 40s - loss: 0.5183 - accuracy: 0.735 - ETA: 38s - loss: 0.5213 - accuracy: 0.733 - ETA: 36s - loss: 0.5195 - accuracy: 0.736 - ETA: 33s - loss: 0.5166 - accuracy: 0.738 - ETA: 31s - loss: 0.5134 - accuracy: 0.742 - ETA: 29s - loss: 0.5156 - accuracy: 0.740 - ETA: 27s - loss: 0.5175 - accuracy: 0.737 - ETA: 25s - loss: 0.5173 - accuracy: 0.738 - ETA: 22s - loss: 0.5161 - accuracy: 0.738 - ETA: 20s - loss: 0.5170 - accuracy: 0.736 - ETA: 18s - loss: 0.5177 - accuracy: 0.735 - ETA: 16s - loss: 0.5159 - accuracy: 0.737 - ETA: 14s - loss: 0.5174 - accuracy: 0.736 - ETA: 12s - loss: 0.5179 - accuracy: 0.734 - ETA: 9s - loss: 0.5165 - accuracy: 0.735 - ETA: 7s - loss: 0.5168 - accuracy: 0.73 - ETA: 5s - loss: 0.5168 - accuracy: 0.73 - ETA: 3s - loss: 0.5152 - accuracy: 0.73 - ETA: 1s - loss: 0.5156 - accuracy: 0.73 - 92s 18ms/sample - loss: 0.5157 - accuracy: 0.7369 - val_loss: 0.4900 - val_accuracy: 0.7427\n",
      "Epoch 5/10\n",
      "5068/5068 [==============================] - ETA: 1:22 - loss: 0.4815 - accuracy: 0.75 - ETA: 1:19 - loss: 0.4941 - accuracy: 0.75 - ETA: 1:17 - loss: 0.4891 - accuracy: 0.74 - ETA: 1:15 - loss: 0.4866 - accuracy: 0.75 - ETA: 1:13 - loss: 0.4861 - accuracy: 0.75 - ETA: 1:11 - loss: 0.4811 - accuracy: 0.75 - ETA: 1:09 - loss: 0.4861 - accuracy: 0.75 - ETA: 1:06 - loss: 0.4828 - accuracy: 0.75 - ETA: 1:04 - loss: 0.4892 - accuracy: 0.75 - ETA: 1:02 - loss: 0.4846 - accuracy: 0.75 - ETA: 1:00 - loss: 0.4795 - accuracy: 0.76 - ETA: 58s - loss: 0.4780 - accuracy: 0.7650 - ETA: 56s - loss: 0.4822 - accuracy: 0.762 - ETA: 54s - loss: 0.4847 - accuracy: 0.761 - ETA: 51s - loss: 0.4825 - accuracy: 0.759 - ETA: 49s - loss: 0.4810 - accuracy: 0.761 - ETA: 47s - loss: 0.4796 - accuracy: 0.762 - ETA: 45s - loss: 0.4815 - accuracy: 0.762 - ETA: 43s - loss: 0.4824 - accuracy: 0.762 - ETA: 41s - loss: 0.4817 - accuracy: 0.765 - ETA: 39s - loss: 0.4799 - accuracy: 0.766 - ETA: 37s - loss: 0.4799 - accuracy: 0.766 - ETA: 35s - loss: 0.4822 - accuracy: 0.763 - ETA: 33s - loss: 0.4848 - accuracy: 0.763 - ETA: 31s - loss: 0.4834 - accuracy: 0.764 - ETA: 29s - loss: 0.4819 - accuracy: 0.765 - ETA: 26s - loss: 0.4830 - accuracy: 0.763 - ETA: 24s - loss: 0.4811 - accuracy: 0.765 - ETA: 22s - loss: 0.4808 - accuracy: 0.766 - ETA: 20s - loss: 0.4816 - accuracy: 0.765 - ETA: 18s - loss: 0.4816 - accuracy: 0.767 - ETA: 16s - loss: 0.4812 - accuracy: 0.767 - ETA: 14s - loss: 0.4805 - accuracy: 0.767 - ETA: 11s - loss: 0.4794 - accuracy: 0.767 - ETA: 9s - loss: 0.4781 - accuracy: 0.768 - ETA: 7s - loss: 0.4775 - accuracy: 0.76 - ETA: 5s - loss: 0.4801 - accuracy: 0.76 - ETA: 3s - loss: 0.4774 - accuracy: 0.76 - ETA: 1s - loss: 0.4768 - accuracy: 0.76 - 91s 18ms/sample - loss: 0.4768 - accuracy: 0.7690 - val_loss: 0.4676 - val_accuracy: 0.7577\n",
      "Epoch 6/10\n",
      "5068/5068 [==============================] - ETA: 1:24 - loss: 0.4370 - accuracy: 0.82 - ETA: 1:20 - loss: 0.4650 - accuracy: 0.79 - ETA: 1:17 - loss: 0.4613 - accuracy: 0.78 - ETA: 1:15 - loss: 0.4521 - accuracy: 0.77 - ETA: 1:13 - loss: 0.4481 - accuracy: 0.77 - ETA: 1:11 - loss: 0.4600 - accuracy: 0.77 - ETA: 1:08 - loss: 0.4651 - accuracy: 0.76 - ETA: 1:06 - loss: 0.4639 - accuracy: 0.76 - ETA: 1:04 - loss: 0.4634 - accuracy: 0.76 - ETA: 1:02 - loss: 0.4631 - accuracy: 0.76 - ETA: 1:00 - loss: 0.4593 - accuracy: 0.76 - ETA: 58s - loss: 0.4587 - accuracy: 0.7702 - ETA: 57s - loss: 0.4581 - accuracy: 0.772 - ETA: 55s - loss: 0.4637 - accuracy: 0.769 - ETA: 53s - loss: 0.4625 - accuracy: 0.771 - ETA: 50s - loss: 0.4599 - accuracy: 0.772 - ETA: 48s - loss: 0.4593 - accuracy: 0.774 - ETA: 46s - loss: 0.4577 - accuracy: 0.777 - ETA: 44s - loss: 0.4560 - accuracy: 0.776 - ETA: 42s - loss: 0.4506 - accuracy: 0.779 - ETA: 39s - loss: 0.4507 - accuracy: 0.779 - ETA: 37s - loss: 0.4516 - accuracy: 0.778 - ETA: 35s - loss: 0.4511 - accuracy: 0.780 - ETA: 33s - loss: 0.4524 - accuracy: 0.779 - ETA: 31s - loss: 0.4511 - accuracy: 0.780 - ETA: 29s - loss: 0.4512 - accuracy: 0.781 - ETA: 26s - loss: 0.4512 - accuracy: 0.780 - ETA: 24s - loss: 0.4511 - accuracy: 0.781 - ETA: 22s - loss: 0.4523 - accuracy: 0.780 - ETA: 20s - loss: 0.4503 - accuracy: 0.781 - ETA: 18s - loss: 0.4522 - accuracy: 0.778 - ETA: 16s - loss: 0.4518 - accuracy: 0.778 - ETA: 14s - loss: 0.4507 - accuracy: 0.778 - ETA: 11s - loss: 0.4504 - accuracy: 0.778 - ETA: 9s - loss: 0.4504 - accuracy: 0.778 - ETA: 7s - loss: 0.4514 - accuracy: 0.77 - ETA: 5s - loss: 0.4519 - accuracy: 0.77 - ETA: 3s - loss: 0.4515 - accuracy: 0.77 - ETA: 1s - loss: 0.4501 - accuracy: 0.78 - 91s 18ms/sample - loss: 0.4511 - accuracy: 0.7797 - val_loss: 0.4308 - val_accuracy: 0.7979\n",
      "Epoch 7/10\n",
      "5068/5068 [==============================] - ETA: 1:33 - loss: 0.4034 - accuracy: 0.82 - ETA: 1:29 - loss: 0.4492 - accuracy: 0.79 - ETA: 1:23 - loss: 0.4356 - accuracy: 0.79 - ETA: 1:19 - loss: 0.4394 - accuracy: 0.79 - ETA: 1:16 - loss: 0.4363 - accuracy: 0.79 - ETA: 1:13 - loss: 0.4320 - accuracy: 0.79 - ETA: 1:11 - loss: 0.4304 - accuracy: 0.79 - ETA: 1:08 - loss: 0.4262 - accuracy: 0.79 - ETA: 1:06 - loss: 0.4318 - accuracy: 0.79 - ETA: 1:04 - loss: 0.4352 - accuracy: 0.79 - ETA: 1:01 - loss: 0.4373 - accuracy: 0.79 - ETA: 59s - loss: 0.4398 - accuracy: 0.7907 - ETA: 57s - loss: 0.4343 - accuracy: 0.793 - ETA: 55s - loss: 0.4366 - accuracy: 0.794 - ETA: 52s - loss: 0.4378 - accuracy: 0.792 - ETA: 50s - loss: 0.4358 - accuracy: 0.793 - ETA: 48s - loss: 0.4330 - accuracy: 0.793 - ETA: 46s - loss: 0.4318 - accuracy: 0.793 - ETA: 44s - loss: 0.4317 - accuracy: 0.794 - ETA: 42s - loss: 0.4294 - accuracy: 0.795 - ETA: 40s - loss: 0.4303 - accuracy: 0.795 - ETA: 38s - loss: 0.4303 - accuracy: 0.794 - ETA: 35s - loss: 0.4269 - accuracy: 0.796 - ETA: 33s - loss: 0.4237 - accuracy: 0.798 - ETA: 31s - loss: 0.4214 - accuracy: 0.800 - ETA: 29s - loss: 0.4210 - accuracy: 0.800 - ETA: 27s - loss: 0.4217 - accuracy: 0.800 - ETA: 24s - loss: 0.4224 - accuracy: 0.799 - ETA: 22s - loss: 0.4232 - accuracy: 0.799 - ETA: 20s - loss: 0.4228 - accuracy: 0.799 - ETA: 18s - loss: 0.4229 - accuracy: 0.799 - ETA: 16s - loss: 0.4210 - accuracy: 0.800 - ETA: 14s - loss: 0.4203 - accuracy: 0.800 - ETA: 11s - loss: 0.4213 - accuracy: 0.800 - ETA: 9s - loss: 0.4211 - accuracy: 0.799 - ETA: 7s - loss: 0.4198 - accuracy: 0.80 - ETA: 5s - loss: 0.4213 - accuracy: 0.80 - ETA: 3s - loss: 0.4202 - accuracy: 0.80 - ETA: 1s - loss: 0.4205 - accuracy: 0.80 - 91s 18ms/sample - loss: 0.4200 - accuracy: 0.8023 - val_loss: 0.4187 - val_accuracy: 0.8039\n",
      "Epoch 8/10\n",
      "5068/5068 [==============================] - ETA: 1:22 - loss: 0.4028 - accuracy: 0.81 - ETA: 1:19 - loss: 0.3959 - accuracy: 0.83 - ETA: 1:17 - loss: 0.3734 - accuracy: 0.83 - ETA: 1:15 - loss: 0.3756 - accuracy: 0.83 - ETA: 1:13 - loss: 0.3881 - accuracy: 0.82 - ETA: 1:11 - loss: 0.3897 - accuracy: 0.82 - ETA: 1:09 - loss: 0.3957 - accuracy: 0.82 - ETA: 1:06 - loss: 0.3916 - accuracy: 0.82 - ETA: 1:04 - loss: 0.3929 - accuracy: 0.82 - ETA: 1:02 - loss: 0.3899 - accuracy: 0.81 - ETA: 1:00 - loss: 0.3904 - accuracy: 0.82 - ETA: 58s - loss: 0.3902 - accuracy: 0.8213 - ETA: 56s - loss: 0.3934 - accuracy: 0.818 - ETA: 54s - loss: 0.3959 - accuracy: 0.817 - ETA: 52s - loss: 0.3900 - accuracy: 0.823 - ETA: 49s - loss: 0.3882 - accuracy: 0.824 - ETA: 47s - loss: 0.3903 - accuracy: 0.824 - ETA: 45s - loss: 0.3902 - accuracy: 0.822 - ETA: 43s - loss: 0.3911 - accuracy: 0.822 - ETA: 42s - loss: 0.3944 - accuracy: 0.821 - ETA: 40s - loss: 0.3926 - accuracy: 0.823 - ETA: 37s - loss: 0.3909 - accuracy: 0.824 - ETA: 35s - loss: 0.3884 - accuracy: 0.825 - ETA: 33s - loss: 0.3867 - accuracy: 0.826 - ETA: 31s - loss: 0.3884 - accuracy: 0.825 - ETA: 29s - loss: 0.3888 - accuracy: 0.825 - ETA: 27s - loss: 0.3904 - accuracy: 0.823 - ETA: 24s - loss: 0.3900 - accuracy: 0.822 - ETA: 22s - loss: 0.3910 - accuracy: 0.822 - ETA: 20s - loss: 0.3909 - accuracy: 0.822 - ETA: 18s - loss: 0.3924 - accuracy: 0.821 - ETA: 16s - loss: 0.3936 - accuracy: 0.820 - ETA: 13s - loss: 0.3929 - accuracy: 0.820 - ETA: 11s - loss: 0.3941 - accuracy: 0.819 - ETA: 9s - loss: 0.3953 - accuracy: 0.817 - ETA: 7s - loss: 0.3937 - accuracy: 0.81 - ETA: 5s - loss: 0.3934 - accuracy: 0.81 - ETA: 3s - loss: 0.3958 - accuracy: 0.81 - ETA: 1s - loss: 0.3954 - accuracy: 0.81 - 90s 18ms/sample - loss: 0.3973 - accuracy: 0.8154 - val_loss: 0.4010 - val_accuracy: 0.8137\n",
      "Epoch 9/10\n"
     ]
    },
    {
     "name": "stdout",
     "output_type": "stream",
     "text": [
      "5068/5068 [==============================] - ETA: 1:20 - loss: 0.3646 - accuracy: 0.86 - ETA: 1:19 - loss: 0.3249 - accuracy: 0.87 - ETA: 1:17 - loss: 0.3325 - accuracy: 0.85 - ETA: 1:14 - loss: 0.3531 - accuracy: 0.84 - ETA: 1:12 - loss: 0.3674 - accuracy: 0.84 - ETA: 1:10 - loss: 0.3805 - accuracy: 0.83 - ETA: 1:09 - loss: 0.3816 - accuracy: 0.83 - ETA: 1:08 - loss: 0.3791 - accuracy: 0.83 - ETA: 1:07 - loss: 0.3801 - accuracy: 0.83 - ETA: 1:04 - loss: 0.3846 - accuracy: 0.83 - ETA: 1:02 - loss: 0.3851 - accuracy: 0.82 - ETA: 59s - loss: 0.3791 - accuracy: 0.8294 - ETA: 56s - loss: 0.3773 - accuracy: 0.831 - ETA: 54s - loss: 0.3807 - accuracy: 0.827 - ETA: 51s - loss: 0.3783 - accuracy: 0.828 - ETA: 48s - loss: 0.3750 - accuracy: 0.831 - ETA: 46s - loss: 0.3741 - accuracy: 0.833 - ETA: 44s - loss: 0.3757 - accuracy: 0.832 - ETA: 42s - loss: 0.3745 - accuracy: 0.832 - ETA: 40s - loss: 0.3765 - accuracy: 0.829 - ETA: 38s - loss: 0.3798 - accuracy: 0.827 - ETA: 36s - loss: 0.3752 - accuracy: 0.831 - ETA: 34s - loss: 0.3745 - accuracy: 0.832 - ETA: 32s - loss: 0.3770 - accuracy: 0.832 - ETA: 30s - loss: 0.3739 - accuracy: 0.834 - ETA: 28s - loss: 0.3723 - accuracy: 0.835 - ETA: 26s - loss: 0.3730 - accuracy: 0.835 - ETA: 24s - loss: 0.3712 - accuracy: 0.835 - ETA: 22s - loss: 0.3708 - accuracy: 0.836 - ETA: 20s - loss: 0.3695 - accuracy: 0.837 - ETA: 17s - loss: 0.3692 - accuracy: 0.838 - ETA: 15s - loss: 0.3691 - accuracy: 0.838 - ETA: 13s - loss: 0.3689 - accuracy: 0.838 - ETA: 11s - loss: 0.3695 - accuracy: 0.836 - ETA: 9s - loss: 0.3691 - accuracy: 0.837 - ETA: 7s - loss: 0.3697 - accuracy: 0.83 - ETA: 5s - loss: 0.3710 - accuracy: 0.83 - ETA: 3s - loss: 0.3702 - accuracy: 0.83 - ETA: 1s - loss: 0.3684 - accuracy: 0.83 - 90s 18ms/sample - loss: 0.3675 - accuracy: 0.8383 - val_loss: 0.4084 - val_accuracy: 0.7979\n",
      "Epoch 10/10\n",
      "5068/5068 [==============================] - ETA: 1:20 - loss: 0.3187 - accuracy: 0.83 - ETA: 1:19 - loss: 0.3228 - accuracy: 0.83 - ETA: 1:17 - loss: 0.3305 - accuracy: 0.83 - ETA: 1:15 - loss: 0.3389 - accuracy: 0.83 - ETA: 1:13 - loss: 0.3387 - accuracy: 0.84 - ETA: 1:11 - loss: 0.3381 - accuracy: 0.84 - ETA: 1:08 - loss: 0.3359 - accuracy: 0.84 - ETA: 1:06 - loss: 0.3422 - accuracy: 0.84 - ETA: 1:04 - loss: 0.3517 - accuracy: 0.83 - ETA: 1:02 - loss: 0.3479 - accuracy: 0.83 - ETA: 1:00 - loss: 0.3476 - accuracy: 0.83 - ETA: 58s - loss: 0.3430 - accuracy: 0.8431 - ETA: 56s - loss: 0.3521 - accuracy: 0.840 - ETA: 54s - loss: 0.3504 - accuracy: 0.842 - ETA: 52s - loss: 0.3529 - accuracy: 0.840 - ETA: 49s - loss: 0.3533 - accuracy: 0.841 - ETA: 47s - loss: 0.3498 - accuracy: 0.844 - ETA: 45s - loss: 0.3494 - accuracy: 0.845 - ETA: 43s - loss: 0.3505 - accuracy: 0.844 - ETA: 41s - loss: 0.3497 - accuracy: 0.842 - ETA: 39s - loss: 0.3510 - accuracy: 0.842 - ETA: 37s - loss: 0.3474 - accuracy: 0.844 - ETA: 35s - loss: 0.3503 - accuracy: 0.841 - ETA: 33s - loss: 0.3513 - accuracy: 0.842 - ETA: 30s - loss: 0.3521 - accuracy: 0.842 - ETA: 28s - loss: 0.3526 - accuracy: 0.840 - ETA: 26s - loss: 0.3538 - accuracy: 0.838 - ETA: 24s - loss: 0.3541 - accuracy: 0.839 - ETA: 22s - loss: 0.3554 - accuracy: 0.839 - ETA: 20s - loss: 0.3556 - accuracy: 0.838 - ETA: 18s - loss: 0.3564 - accuracy: 0.836 - ETA: 16s - loss: 0.3571 - accuracy: 0.835 - ETA: 14s - loss: 0.3557 - accuracy: 0.836 - ETA: 12s - loss: 0.3537 - accuracy: 0.837 - ETA: 9s - loss: 0.3551 - accuracy: 0.836 - ETA: 7s - loss: 0.3529 - accuracy: 0.83 - ETA: 5s - loss: 0.3515 - accuracy: 0.83 - ETA: 3s - loss: 0.3504 - accuracy: 0.83 - ETA: 1s - loss: 0.3513 - accuracy: 0.83 - 92s 18ms/sample - loss: 0.3516 - accuracy: 0.8392 - val_loss: 0.3737 - val_accuracy: 0.8177\n"
     ]
    }
   ],
   "source": [
    "history = model.fit(x_train, y_train, epochs = 10, batch_size=128, validation_data=(x_val, y_val))"
   ]
  },
  {
   "cell_type": "code",
   "execution_count": 22,
   "metadata": {},
   "outputs": [
    {
     "data": {
      "image/png": "[encoded data removed]",
      "text/plain": [
       "<Figure size 432x288 with 1 Axes>"
      ]
     },
     "metadata": {
      "needs_background": "light"
     },
     "output_type": "display_data"
    }
   ],
   "source": [
    "import matplotlib.pyplot as plt\n",
    "%matplotlib inline\n",
    "loss = history.history['loss']\n",
    "val_loss = history.history['val_loss']\n",
    "epochs = range(1, len(loss)+1)\n",
    "plt.plot(epochs, loss, label='Training loss')\n",
    "plt.plot(epochs, val_loss, label='Validation loss')\n",
    "plt.title('Training and validation loss')\n",
    "plt.xlabel('Epochs')\n",
    "plt.ylabel('Loss')\n",
    "plt.legend()\n",
    "plt.show();"
   ]
  },
  {
   "cell_type": "code",
   "execution_count": 23,
   "metadata": {},
   "outputs": [
    {
     "data": {
      "image/png": "[encoded data removed]",
      "text/plain": [
       "<Figure size 432x288 with 1 Axes>"
      ]
     },
     "metadata": {
      "needs_background": "light"
     },
     "output_type": "display_data"
    }
   ],
   "source": [
    "accuracy = history.history['accuracy']\n",
    "val_accuracy = history.history['val_accuracy']\n",
    "plt.plot(epochs, accuracy, label='Training accuracy')\n",
    "plt.plot(epochs, val_accuracy, label='Validation accuracy')\n",
    "plt.title('Training and validation accuracy')\n",
    "plt.ylabel('Accuracy')\n",
    "plt.xlabel('Epochs')\n",
    "plt.legend()\n",
    "plt.show();"
   ]
  },
  {
   "cell_type": "code",
   "execution_count": 24,
   "metadata": {},
   "outputs": [],
   "source": [
    "random_num = np.random.randint(0, 100)\n",
    "test_data = x[random_num]\n",
    "test_label = y.loc[random_num]\n",
    "clean_test_data = clean_text(test_data)\n",
    "test_tokenizer = Tokenizer(num_words=MAX_NB_WORDS)\n",
    "test_tokenizer.fit_on_texts(clean_test_data)\n",
    "test_sequences = tokenizer.texts_to_sequences(clean_test_data)\n",
    "word_index = test_tokenizer.word_index\n",
    "test_data_padded = pad_sequences(test_sequences, padding = 'post', maxlen = MAX_SEQUENCE_LENGTH)"
   ]
  },
  {
   "cell_type": "code",
   "execution_count": 25,
   "metadata": {},
   "outputs": [],
   "source": [
    "prediction = model.predict(test_data_padded)"
   ]
  },
  {
   "cell_type": "code",
   "execution_count": 26,
   "metadata": {},
   "outputs": [
    {
     "data": {
      "text/plain": [
       "FAKE    1\n",
       "REAL    0\n",
       "Name: 53, dtype: uint8"
      ]
     },
     "execution_count": 26,
     "metadata": {},
     "output_type": "execute_result"
    }
   ],
   "source": [
    "test_label"
   ]
  },
  {
   "cell_type": "code",
   "execution_count": 27,
   "metadata": {},
   "outputs": [
    {
     "data": {
      "text/plain": [
       "array([1, 0], dtype=int64)"
      ]
     },
     "execution_count": 27,
     "metadata": {},
     "output_type": "execute_result"
    }
   ],
   "source": [
    "prediction[random_num].argsort()[-len(prediction[random_num]):]"
   ]
  },
  {
   "cell_type": "code",
   "execution_count": 28,
   "metadata": {},
   "outputs": [
    {
     "name": "stdout",
     "output_type": "stream",
     "text": [
      "REAL\n"
     ]
    }
   ],
   "source": [
    "label= ['FAKE','REAL']\n",
    "if prediction.any:\n",
    "    print(label[1])\n",
    "else:\n",
    "    print(label[0])"
   ]
  },
  {
   "cell_type": "code",
   "execution_count": null,
   "metadata": {},
   "outputs": [],
   "source": []
  }
 ],
 "metadata": {
  "kernelspec": {
   "display_name": "Python 3",
   "language": "python",
   "name": "python3"
  },
  "language_info": {
   "codemirror_mode": {
    "name": "ipython",
    "version": 3
   },
   "file_extension": ".py",
   "mimetype": "text/x-python",
   "name": "python",
   "nbconvert_exporter": "python",
   "pygments_lexer": "ipython3",
   "version": "3.7.7"
  }
 },
 "nbformat": 4,
 "nbformat_minor": 2
}
